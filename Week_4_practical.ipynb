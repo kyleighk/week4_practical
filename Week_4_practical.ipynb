{
  "nbformat": 4,
  "nbformat_minor": 5,
  "metadata": {
    "kernelspec": {
      "display_name": "R",
      "language": "R",
      "name": "ir"
    },
    "language_info": {
      "codemirror_mode": "r",
      "file_extension": ".r",
      "mimetype": "text/x-r-source",
      "name": "R",
      "pygments_lexer": "r",
      "version": "4.0.2"
    },
    "colab": {
      "name": "Week_4_practical.ipynb",
      "provenance": []
    }
  },
  "cells": [
    {
      "cell_type": "markdown",
      "metadata": {
        "id": "355542d2"
      },
      "source": [
        "### Instructions:\n",
        "\n",
        "1. Import all the libraries you need in the cell below\n",
        "2. Create as many cells as needed to answer a question\n",
        "  * Group code that is logically related in the same cell\n",
        "  * Keep cells relatively small\n",
        "  * Format long statements or expressions, including `ggplot`, across multiple lines\n",
        "3. Submit your work to Github\n",
        "  * your GitHub repository should be called `week_4_practical`\n",
        "  * This file should be called `week_4_solution.ipynb`\n",
        "    "
      ],
      "id": "355542d2"
    },
    {
      "cell_type": "code",
      "metadata": {
        "id": "1089e361"
      },
      "source": [
        "# Write you library imports here. E.g.:\n",
        "# library(ggplot2 )\n",
        "# ..."
      ],
      "id": "1089e361",
      "execution_count": null,
      "outputs": []
    },
    {
      "cell_type": "markdown",
      "metadata": {
        "id": "9d1f436c"
      },
      "source": [
        "### Q.1\n",
        "\n",
        "* Write a function that manually computes the standard deviation.\n",
        "  * Call your function `sd_x`\n",
        "\n",
        "Recall that the standard deviation is computed as\n",
        "\n",
        "$$\n",
        "\\sigma = \\sqrt{\\frac{\\sum{(x_i - \\mu)^2}}{N-1}}\n",
        "$$\n",
        "\n",
        "* $\\mu$ is simply the mean of the vector of inputs\n",
        "  * it can be computed using the `mean` function\n",
        "\n",
        "\n",
        "For example, given:\n",
        "\n",
        "```x = c(1,2,3)```\n",
        "\n",
        "Since $\\mu = 2$, then $\\sigma = \\sqrt{\\frac{(1-2)^2 + (2-2)^2 + (3-2)^2}{3}} = 1$.\n",
        "\n",
        "* Important: What do you do if this function is called with a single element?\n",
        "  * Recall that we cannot compute the std deviation of a single value\n",
        "\n",
        "* Use `assertthat` to make sure that `sd_x` and `sd` return the same values for 3 test vectors of your choice."
      ],
      "id": "9d1f436c"
    },
    {
      "cell_type": "code",
      "metadata": {
        "id": "41dba35a"
      },
      "source": [
        "# Write you answer here and use more cell if needed\n",
        "\n"
      ],
      "id": "41dba35a",
      "execution_count": null,
      "outputs": []
    },
    {
      "cell_type": "markdown",
      "metadata": {
        "id": "dec09c62"
      },
      "source": [
        "### Q2\n",
        "\n",
        "* In this question, we will build a simulated dataset for healthy and diseased corals.  You will be creating a `tibble` called `coral_health_tbl` that contains 2 columns:\n",
        "\n",
        "1. A column called `coral`. Generate this column by sampling 100 coral species from the following values\n",
        "```R\n",
        "coral_pop = c(\"Montipora capitata\",\n",
        "                 \"Porites compressa\",\n",
        "                 \"Porites lobata\")\n",
        "```\n",
        " * You can use the function `sample` to select 100 values from the vector `coral_pop`\n",
        " \n",
        "2. The second column is called `health_status`.\n",
        "    * it represents 100 randomly selected `TRUE` or `FALSE` values that represent whether the coral is healthy or diseased.\n",
        "    * Healthy corals (`health_status == FALSE`; not diseased) occur with a probability of 0.8 wheras diseased (`health_status == TRUE`) corals occur with a probability of 0.3.\n",
        "    * You can use sample again but modify the `prob` parameter to account for the differet probabilities\n"
      ],
      "id": "dec09c62"
    },
    {
      "cell_type": "code",
      "metadata": {
        "id": "f211f27a"
      },
      "source": [
        "# Write you answer here and use more cell if needed\n",
        "\n"
      ],
      "id": "f211f27a",
      "execution_count": null,
      "outputs": []
    },
    {
      "cell_type": "markdown",
      "metadata": {
        "id": "dacc2558"
      },
      "source": [
        "### Q3\n",
        "\n",
        "* Create a new column in `coral_health_tbl` called `coral_cover`\n",
        "* This column represents coral cover values for the corals observed in your tibble\n",
        "\n",
        "* For the healthy coral (`health_status = TRUE`), sample the cover values from a normal with mean 9 and std of 2\n",
        "* For the diseased corals (`health_status = TRUE`), sample the cover values from a normal with mean 1 and std of 3\n",
        "* Note that this is a perfect scenario for using `mapply`"
      ],
      "id": "dacc2558"
    },
    {
      "cell_type": "code",
      "metadata": {
        "id": "f6b58424"
      },
      "source": [
        "# Write you answer here and use more cell if needed\n"
      ],
      "id": "f6b58424",
      "execution_count": null,
      "outputs": []
    },
    {
      "cell_type": "markdown",
      "metadata": {
        "id": "fa18322d"
      },
      "source": [
        "### Q4\n",
        "\n",
        "* Add another column called `binary_health_status`.\n",
        " * set the column to 0 if `health_status == FALSE`\n",
        " * set the column to 1 if `health_status == TRUE`\n",
        "\n",
        "* A trick here is to remember that:\n",
        "  1. Corecing (converting) a logical can be done with `as.integer()`\n",
        "  2. `as.integer(TRUE)` returns 1\n",
        "  3. `as.integer(FALSE)` returns 0\n",
        "\n",
        "\n"
      ],
      "id": "fa18322d"
    },
    {
      "cell_type": "code",
      "metadata": {
        "id": "013461ec"
      },
      "source": [
        "# Write you answer here and use more cell if needed\n",
        "\n"
      ],
      "id": "013461ec",
      "execution_count": null,
      "outputs": []
    },
    {
      "cell_type": "markdown",
      "metadata": {
        "id": "a6e28e80"
      },
      "source": [
        "### Q5\n",
        "\n",
        "* Plot the distribution of `coral_cover` for healthy versus diseased corals\n",
        "* Note that I am using a histogram `geom`\n",
        "  * Histograms need only a `x` axis because the `y` is computed (count)\n",
        "    * However, instead of a raw count, we want a normalized count. You can normalize the count by setting `y = stat(count / sum(count))`  \n",
        "  * I am coloring the bin outlines in black and filling in grey for disease and white for healthy\n",
        "  * I am using `binwidth=1'.\n",
        "* use the `labs` function to add a title and to change the labels for the `x` and `y` axes\n",
        "* The plot should look like the following\n",
        "![](https://www.dropbox.com/s/wdbdj05rd50vb0k/healthy-diseased.png?dl=1)"
      ],
      "id": "a6e28e80"
    },
    {
      "cell_type": "code",
      "metadata": {
        "id": "23a9adff"
      },
      "source": [
        "# Write you answer here and use more cell if needed\n",
        "\n"
      ],
      "id": "23a9adff",
      "execution_count": null,
      "outputs": []
    },
    {
      "cell_type": "markdown",
      "metadata": {
        "id": "5a9538df"
      },
      "source": [
        "### Q6.\n",
        "\n",
        "* Repeat the plot above by highlighting the distribution per species\n",
        "* I am using `geom_density`\n",
        "  * set the `adjust` param of `geom_density` to `2`\n",
        "* Change the `xlim` scale so that we can see the edges of the curves\n",
        "  * I.e., curves should not be cutoff\n"
      ],
      "id": "5a9538df"
    },
    {
      "cell_type": "code",
      "metadata": {
        "id": "4839415e"
      },
      "source": [
        "# Write you answer here and use more cell if needed\n",
        "\n"
      ],
      "id": "4839415e",
      "execution_count": null,
      "outputs": []
    },
    {
      "cell_type": "markdown",
      "metadata": {
        "id": "784fa644"
      },
      "source": [
        "### Q6 -- Challenge\n",
        "\n",
        "\n",
        "Recall problem `8` in the airquality dataset.\n",
        "  * Remember that you can import that dataset using `data(airquality)`\n",
        "1. Convert the `airquality` dataframe to a tibble called `airq_tbl`\n",
        "2. Replace the missing values for Solar.R using that month's average.\n",
        "    * Example:\n",
        "        * The missing value for line 6 in `airq_tbl`should be replaced with the average for month 5.\n",
        "        * The missing value for line 97 in `airq_tbl` should be replaced with the average for month 8.\n",
        "\n",
        "* Strategy:\n",
        "  1. Compute the average values for months 5, 6, 7, 8, and 9 in a names vector called `monthly_avg_SolarR`\n",
        "      * monthly_avg_SolarR[5] should return the average for May.\n",
        "      * monthly_avg_SolarR[6] should return the average for June.\n",
        "      * etc.\n",
        "      * This is an ideal use case for `tapply` with `na.rm=TRUE` (ask me!)\n",
        "  2. for each line of airq_tbl check value of Solar.R and do:\n",
        "    * if value is not `na`, return the value\n",
        "    * if value if `na`; return avg associated with `Month`\n",
        "    * This is an ideal case for `apply`\n",
        "      * You need to write your own function (call it `fix_missing_solar_R`)\n",
        "      * Recall that the argument to that function is a complete row as a vector!\n",
        "    * test your function with the following line to make sure it's working\n",
        "    ```fix_missing_solar_R(airq_tbl[5,])```"
      ],
      "id": "784fa644"
    },
    {
      "cell_type": "code",
      "metadata": {
        "id": "37af68e4"
      },
      "source": [
        "# Write you answer here and use more cell if needed \n",
        "# you most likely will need more cells to structure such a multi-step answer\n",
        "\n"
      ],
      "id": "37af68e4",
      "execution_count": null,
      "outputs": []
    }
  ]
}